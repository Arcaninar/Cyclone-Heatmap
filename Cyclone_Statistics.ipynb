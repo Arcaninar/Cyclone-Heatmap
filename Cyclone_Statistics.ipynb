{
 "cells": [
  {
   "cell_type": "markdown",
   "id": "6e644ec8",
   "metadata": {},
   "source": [
    "# Cyclone Statistics"
   ]
  },
  {
   "cell_type": "code",
   "execution_count": 2,
   "id": "9349db36-b637-41f9-a118-cfcd91187003",
   "metadata": {},
   "outputs": [
    {
     "name": "stdout",
     "output_type": "stream",
     "text": [
      "Max longitude =  163.0\n",
      "Max latitude =  47.6\n",
      "Max Wind Speed =  115\n",
      "Max Pressure =  1006\n",
      "\n",
      "Min longitude =  113.4\n",
      "Min latitude =  23.0\n",
      "Min Wind Speed =  35\n",
      "Min Pressure =  905\n",
      "\n",
      "Avg longitude =  134.68478415982864\n",
      "Avg latitude =  29.09282911166601\n",
      "Avg Wind Speed =  62.11291473421334\n",
      "Avg Pressure =  970.5126650017838\n"
     ]
    }
   ],
   "source": [
    "# computes the minimum, maximum, and average of\n",
    "# latitude, longitude, wind speed, and pressure\n",
    "\n",
    "maxLong = maxLat = maxWindSpeed = maxPressure = 0\n",
    "minLong = minLat = minWindSpeed = minPressure = 10000\n",
    "totLong = totLat = totWindSpeed = totPressure = 0\n",
    "totalCyclone = 0\n",
    "\n",
    "with open('raw_data.txt', 'r') as f1:\n",
    "    for line in f1:\n",
    "        numLine = int(line[12:15])\n",
    "        year = int(line[6:8])\n",
    "\n",
    "        if year > 22:\n",
    "            for i in range(numLine):\n",
    "                next(f1)\n",
    "            continue\n",
    "        else:\n",
    "            for i in range(numLine):\n",
    "                newLine = f1.readline()\n",
    "                wind = int(newLine[33:36])\n",
    "                lat = int(newLine[15:18])/10\n",
    "                long = int(newLine[19:23])/10\n",
    "                pressure = int(newLine[24:28])\n",
    "\n",
    "                if (wind == 0):\n",
    "                    continue\n",
    "    \n",
    "                # remove cyclone outside of Japan\n",
    "                if (lat < 23 or lat > 48):\n",
    "                    continue\n",
    "    \n",
    "                if (long < 113 or long > 163):\n",
    "                    continue\n",
    "\n",
    "                totalCyclone += 1\n",
    "                totLong += long\n",
    "                totLat += lat\n",
    "                totWindSpeed += wind\n",
    "                totPressure += pressure\n",
    "\n",
    "                if long > maxLong:\n",
    "                    maxLong = long\n",
    "                if lat > maxLat:\n",
    "                    maxLat = lat\n",
    "                if wind > maxWindSpeed:\n",
    "                    maxWindSpeed = wind\n",
    "                if pressure > maxPressure:\n",
    "                    maxPressure = pressure\n",
    "\n",
    "                if long < minLong:\n",
    "                    minLong = long\n",
    "                if lat < minLat:\n",
    "                    minLat = lat\n",
    "                if wind < minWindSpeed:\n",
    "                    minWindSpeed = wind\n",
    "                if pressure < minPressure:\n",
    "                    minPressure = pressure\n",
    "\n",
    "print(\"Max longitude = \", maxLong)\n",
    "print(\"Max latitude = \", maxLat)\n",
    "print(\"Max Wind Speed = \", maxWindSpeed)\n",
    "print(\"Max Pressure = \", maxPressure)\n",
    "print()\n",
    "\n",
    "print(\"Min longitude = \", minLong)\n",
    "print(\"Min latitude = \", minLat)\n",
    "print(\"Min Wind Speed = \", minWindSpeed)\n",
    "print(\"Min Pressure = \", minPressure)\n",
    "print()\n",
    "\n",
    "print(\"Avg longitude = \", totLong / totalCyclone)\n",
    "print(\"Avg latitude = \", totLat / totalCyclone)\n",
    "print(\"Avg Wind Speed = \", totWindSpeed / totalCyclone)\n",
    "print(\"Avg Pressure = \", totPressure / totalCyclone)"
   ]
  }
 ],
 "metadata": {
  "kernelspec": {
   "display_name": "Python 3 (ipykernel)",
   "language": "python",
   "name": "python3"
  },
  "language_info": {
   "codemirror_mode": {
    "name": "ipython",
    "version": 3
   },
   "file_extension": ".py",
   "mimetype": "text/x-python",
   "name": "python",
   "nbconvert_exporter": "python",
   "pygments_lexer": "ipython3",
   "version": "3.10.9"
  }
 },
 "nbformat": 4,
 "nbformat_minor": 5
}
