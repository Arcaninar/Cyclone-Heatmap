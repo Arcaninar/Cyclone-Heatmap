{
 "cells": [
  {
   "cell_type": "markdown",
   "id": "b68d2600-df14-4681-8295-6e580f1a76aa",
   "metadata": {},
   "source": [
    "# Convert Heatmap -> GIF Timelapse"
   ]
  },
  {
   "cell_type": "code",
   "execution_count": null,
   "id": "1a2abd16-7576-4943-9450-6f1ef8dfe3bd",
   "metadata": {},
   "outputs": [],
   "source": [
    "import folium\n",
    "import folium.plugins as plugins\n",
    "\n",
    "import os\n",
    "import fileinput\n",
    "\n",
    "from GrabzIt import GrabzItImageOptions\n",
    "from GrabzIt import GrabzItClient\n",
    "import imageio\n",
    "from pathlib import Path"
   ]
  },
  {
   "cell_type": "code",
   "execution_count": 22,
   "id": "9d654ae3-bb80-4cd4-97a4-06c096a4ffc9",
   "metadata": {},
   "outputs": [],
   "source": [
    "# Extract cleaned data\n",
    "data = list()\n",
    "\n",
    "with open('heatmap_data.txt', 'r') as f:\n",
    "    for line in f:\n",
    "        numLine = int(line)\n",
    "        temp = list()\n",
    "        for i in range(numLine):\n",
    "            newLine = [float(x) for x in f.readline().replace('\\n', '').split(',')]\n",
    "            temp.append(newLine)\n",
    "        data.append(temp)"
   ]
  },
  {
   "cell_type": "code",
   "execution_count": 23,
   "id": "a6b19cc1-0cd9-4181-be09-fab0fb9234ec",
   "metadata": {},
   "outputs": [],
   "source": [
    "# Create year and season list\n",
    "season_index = list()\n",
    "season = ['Spring', 'Summer', 'Autumn', 'Winter']\n",
    "\n",
    "for i in range(2000, 2023):\n",
    "    for j in season:\n",
    "        season_index.append(str(i) + ' - ' + j)"
   ]
  },
  {
   "cell_type": "code",
   "execution_count": 24,
   "id": "4bf9dc75-26de-402d-85a8-93555760ffcb",
   "metadata": {},
   "outputs": [],
   "source": [
    "# convert heatmap timelapse to individual HTML file\n",
    "path = \"GIF_HTML\"\n",
    "isExist = os.path.exists(path)\n",
    "\n",
    "if not isExist:\n",
    "   os.makedirs(path)\n",
    "\n",
    "seasonList = ['Spring (March to May)', 'Summer (June to August)', 'Autumn (September to November)', 'Winter (December to February)']\n",
    "for i in range(2000, 2023):\n",
    "    for j in range(4):\n",
    "        m_i = folium.Map(location = [36.2048, 138.2529], zoom_start = 5)\n",
    "\n",
    "        # Add year & season label/title to the map\n",
    "        title_html = '''\n",
    "                     <h3 align=\"center\" style=\"font-size:22px\">\n",
    "                        <b>\n",
    "                            {}\n",
    "                        </b>\n",
    "                    </h3>\n",
    "                     '''.format('Season: ' + str(i) + ' - ' + seasonList[j])   \n",
    "        m_i.get_root().html.add_child(folium.Element(title_html))\n",
    "\n",
    "        # Plot colors to the map using json geographical borderst\n",
    "        plugins.HeatMap(\n",
    "            data[j + 4*(i - 2000)],\n",
    "            radius = 25,\n",
    "            blur = 15,\n",
    "            gradient = {0 : 'navy', 0.6 : 'cyan', 0.7 : 'lime', 0.8 : 'yellow', 1 : 'red'}\n",
    "        ).add_to(m_i)\n",
    "\n",
    "        folium.TileLayer('stamenterrain').add_to(m_i)\n",
    "\n",
    "        # save as html file\n",
    "        m_i.save(\"{folder}/{year}_{index}.html\".format(folder = path, year = i, index = j))\n",
    "\n",
    "        with fileinput.FileInput(\"{folder}/{year}_{index}.html\".format(folder = path, year = i, index = j), inplace=True) as file:\n",
    "             for line in file:\n",
    "                # set zoomControl to false to prevent zoom in/out during conversion to image\n",
    "                print(line.replace('zoomControl: true', 'zoomControl: false'), end='')"
   ]
  },
  {
   "cell_type": "code",
   "execution_count": 16,
   "id": "f0caf4a1-a999-45f5-abee-b85d22fa0b54",
   "metadata": {},
   "outputs": [],
   "source": [
    "# convert HTML to jpg using GrabzIt API, this might take several minutes\n",
    "path_img = \"GIF_Img\"\n",
    "path_html = \"GIF_HTML\"\n",
    "isExist = os.path.exists(path_img)\n",
    "\n",
    "if not isExist:\n",
    "   os.makedirs(path_img)\n",
    "\n",
    "# use dummy account key\n",
    "grabzIt = GrabzItClient.GrabzItClient(\"MTQ5YzJhNjg2M2IyNDg3ZmE5ZDVjMmQ3ZDUxMTY2MmE\", \"VVN_Ifl2UfNnqXisBmi5T7sjXAEcRLteBFMB3KOvRqM\")\n",
    "\n",
    "options = GrabzItImageOptions.GrabzItImageOptions()\n",
    "options.format = \"jpg\"\n",
    "\n",
    "for i in range(2000, 2023):\n",
    "    for j in range(4):\n",
    "        grabzIt.FileToImage(\"{folder}/{year}_{index}.html\".format(folder = path_html, year = i, index = j), options)\n",
    "        grabzIt.SaveTo(\"{folder}/{year}_{index}.jpg\".format(folder = path_img, year = i, index = j))"
   ]
  },
  {
   "cell_type": "code",
   "execution_count": 18,
   "id": "1bf0749e-8421-489d-a7f5-d1c36a53ec67",
   "metadata": {},
   "outputs": [],
   "source": [
    "# convert image files to 1 GIF\n",
    "image_path = Path('GIF_Img')\n",
    "\n",
    "images = list(image_path.glob('*.jpg'))\n",
    "image_list = []\n",
    "for file_name in images:\n",
    "    image_list.append(imageio.v2.imread(file_name))\n",
    "    \n",
    "imageio.mimwrite('Heatmap_Timelapse.gif', image_list, fps=1)"
   ]
  },
  {
   "cell_type": "code",
   "execution_count": 19,
   "id": "bc4fa49c",
   "metadata": {},
   "outputs": [],
   "source": [
    "# OPTIONAL\n",
    "# run this cell to remove all the HTML file and folder\n",
    "\n",
    "path = 'GIF_HTML'\n",
    "for i in range(2000, 2023):\n",
    "    for j in range(4):\n",
    "        os.remove(\"{folder}/{year}_{index}.html\".format(folder = path, year = i, index = j))\n",
    "\n",
    "os.rmdir(path)"
   ]
  },
  {
   "cell_type": "code",
   "execution_count": null,
   "id": "d5a60aef",
   "metadata": {},
   "outputs": [],
   "source": [
    "# OPTIONAL\n",
    "# run this cell to remove all the jpg file and folder\n",
    "\n",
    "path = 'GIF_Img'\n",
    "for i in range(2000, 2023):\n",
    "    for j in range(4):\n",
    "        os.remove(\"{folder}/{year}_{index}.jpg\".format(folder = path, year = i, index = j))\n",
    "\n",
    "os.rmdir(path)"
   ]
  }
 ],
 "metadata": {
  "kernelspec": {
   "display_name": "Python 3 (ipykernel)",
   "language": "python",
   "name": "python3"
  },
  "language_info": {
   "codemirror_mode": {
    "name": "ipython",
    "version": 3
   },
   "file_extension": ".py",
   "mimetype": "text/x-python",
   "name": "python",
   "nbconvert_exporter": "python",
   "pygments_lexer": "ipython3",
   "version": "3.10.9"
  }
 },
 "nbformat": 4,
 "nbformat_minor": 5
}
