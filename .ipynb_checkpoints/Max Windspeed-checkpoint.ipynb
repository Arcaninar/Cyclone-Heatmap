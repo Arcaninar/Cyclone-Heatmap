{
 "cells": [
  {
   "cell_type": "code",
   "execution_count": 4,
   "id": "9349db36-b637-41f9-a118-cfcd91187003",
   "metadata": {},
   "outputs": [
    {
     "name": "stdout",
     "output_type": "stream",
     "text": [
      "Max longitude =  187.4\n",
      "Max latitude =  62.1\n",
      "Max Wind Speed =  125\n",
      "Max Pressure =  1018\n",
      "Min longitude =  99.3\n",
      "Min latitude =  1.4\n",
      "Min Wind Speed =  0\n",
      "Min Pressure =  885\n"
     ]
    }
   ],
   "source": [
    "maxLong = 0\n",
    "maxLat = 0\n",
    "maxWindSpeed = 0\n",
    "maxPressure = 0\n",
    "minLong = 10000\n",
    "minLat = 10000\n",
    "minWindSpeed = 10000\n",
    "minPressure = 10000\n",
    "\n",
    "with open('raw_data.txt', 'r') as f1:\n",
    "    for line in f1:\n",
    "        numLine = int(line[12:15])\n",
    "        year = int(line[6:8])\n",
    "\n",
    "        if year > 24:\n",
    "            for i in range(numLine):\n",
    "                next(f1)\n",
    "            continue\n",
    "        else:\n",
    "            for i in range(numLine):\n",
    "                newLine = f1.readline()\n",
    "                wind = int(newLine[33:36])\n",
    "                lat = int(newLine[15:18])/10\n",
    "                long = int(newLine[19:23])/10\n",
    "                pressure = int(newLine[24:28])\n",
    "\n",
    "                if long > maxLong:\n",
    "                    maxLong = long\n",
    "                if lat > maxLat:\n",
    "                    maxLat = lat\n",
    "                if wind > maxWindSpeed:\n",
    "                    maxWindSpeed = wind\n",
    "                if pressure > maxPressure:\n",
    "                    maxPressure = pressure\n",
    "\n",
    "                if long < minLong:\n",
    "                    minLong = long\n",
    "                if lat < minLat:\n",
    "                    minLat = lat\n",
    "                if wind < minWindSpeed and wind != 0:\n",
    "                    minWindSpeed = wind\n",
    "                if pressure < minPressure:\n",
    "                    minPressure = pressure\n",
    "\n",
    "print(\"Max longitude = \", maxLong)\n",
    "print(\"Max latitude = \", maxLat)\n",
    "print(\"Max Wind Speed = \", maxWindSpeed)\n",
    "print(\"Max Pressure = \", maxPressure)\n",
    "\n",
    "print(\"Min longitude = \", minLong)\n",
    "print(\"Min latitude = \", minLat)\n",
    "print(\"Min Wind Speed = \", minWindSpeed)\n",
    "print(\"Min Pressure = \", minPressure)"
   ]
  }
 ],
 "metadata": {
  "kernelspec": {
   "display_name": "Python 3 (ipykernel)",
   "language": "python",
   "name": "python3"
  },
  "language_info": {
   "codemirror_mode": {
    "name": "ipython",
    "version": 3
   },
   "file_extension": ".py",
   "mimetype": "text/x-python",
   "name": "python",
   "nbconvert_exporter": "python",
   "pygments_lexer": "ipython3",
   "version": "3.10.9"
  }
 },
 "nbformat": 4,
 "nbformat_minor": 5
}
